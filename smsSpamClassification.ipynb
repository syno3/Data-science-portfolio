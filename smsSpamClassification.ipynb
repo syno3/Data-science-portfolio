{
  "nbformat": 4,
  "nbformat_minor": 0,
  "metadata": {
    "colab": {
      "name": "smsSpamClassification.ipynb",
      "provenance": [],
      "authorship_tag": "ABX9TyMv6EfKIbTqe8Dewd1IVtzO",
      "include_colab_link": true
    },
    "kernelspec": {
      "name": "python3",
      "display_name": "Python 3"
    },
    "language_info": {
      "name": "python"
    },
    "accelerator": "GPU"
  },
  "cells": [
    {
      "cell_type": "markdown",
      "metadata": {
        "id": "view-in-github",
        "colab_type": "text"
      },
      "source": [
        "<a href=\"https://colab.research.google.com/github/syno3/Data-science-portfolio/blob/dev/smsSpamClassification.ipynb\" target=\"_parent\"><img src=\"https://colab.research.google.com/assets/colab-badge.svg\" alt=\"Open In Colab\"/></a>"
      ]
    },
    {
      "cell_type": "code",
      "metadata": {
        "id": "DzfZFy2VE80K"
      },
      "source": [
        "### importing the required modules\n",
        "\n",
        "import tensorflow as tf\n",
        "import pandas as pd\n",
        "from tensorflow import keras\n",
        "\n",
        "import tensorflow_datasets as tfds\n",
        "import numpy as np\n",
        "import matplotlib.pyplot as plt\n",
        "\n",
        "from tensorflow.keras import utils\n",
        "import csv\n",
        "import pandas as pd"
      ],
      "execution_count": 1,
      "outputs": []
    },
    {
      "cell_type": "code",
      "metadata": {
        "id": "1Tbx_idxGI6k"
      },
      "source": [
        "# get data files\n",
        "#loading the data\n",
        "\n",
        "!wget https://cdn.freecodecamp.org/project-data/sms/train-data.tsv\n",
        "!wget https://cdn.freecodecamp.org/project-data/sms/valid-data.tsv\n",
        "\n",
        "train_file_path = \"train-data.tsv\"\n",
        "test_file_path = \"valid-data.tsv\""
      ],
      "execution_count": null,
      "outputs": []
    },
    {
      "cell_type": "code",
      "metadata": {
        "id": "0TWK7-tqJ_yD"
      },
      "source": [
        "## converting to dataFrame and Preprocessing\n",
        "\n",
        "train_df = pd.read_csv(train_file_path, sep='\\t', names=['Classification', 'Text'])\n",
        "test_df = pd.read_csv(test_file_path, sep='\\t', names=['Classification', 'Text'])"
      ],
      "execution_count": 3,
      "outputs": []
    },
    {
      "cell_type": "code",
      "metadata": {
        "id": "cWFp2uuwLj92"
      },
      "source": [
        "## Mapping the data\n",
        "\n",
        "x_train = train_df.drop('Text', axis=1).astype('category')\n",
        "y_train = train_df.drop('Classification', axis=1)\n",
        "\n",
        "x_test = test_df.drop('Text', axis=1).astype('category')\n",
        "y_test = test_df.drop('Classification', axis=1)"
      ],
      "execution_count": 21,
      "outputs": []
    },
    {
      "cell_type": "code",
      "metadata": {
        "id": "oR6hM9VZNx7F"
      },
      "source": [
        "### encoding the spam and ham into [0,1]\n",
        "\n",
        "x_train =  x_train['Classification'].cat.codes\n",
        "x_test = x_test['Classification'].cat.codes"
      ],
      "execution_count": 22,
      "outputs": []
    },
    {
      "cell_type": "code",
      "metadata": {
        "id": "40EYJXnROivK"
      },
      "source": [
        "## iterate over column (text) and encode raw text\n",
        "VOCAB_SIZE = 1000\n",
        "for i in y_train:\n",
        "  encoder = tf.keras.layers.experimental.preprocessing.TextVectorization(\n",
        "      max_tokens=VOCAB_SIZE)\n",
        "  encoder.adapt(np.array(y_train[i]))"
      ],
      "execution_count": 25,
      "outputs": []
    },
    {
      "cell_type": "code",
      "metadata": {
        "id": "SNrPVVVTVMu8"
      },
      "source": [
        "for j in y_test:\n",
        "  encoder = tf.keras.layers.experimental.preprocessing.TextVectorization(\n",
        "      max_tokens=VOCAB_SIZE)\n",
        "  encoder.adapt(np.array(y_test[j]))"
      ],
      "execution_count": 29,
      "outputs": []
    },
    {
      "cell_type": "code",
      "metadata": {
        "id": "Apf0yHvvUzdg"
      },
      "source": [
        "vocab = np.array(encoder.get_vocabulary())"
      ],
      "execution_count": 31,
      "outputs": []
    },
    {
      "cell_type": "code",
      "metadata": {
        "id": "XiKK0o6-V6tR"
      },
      "source": [
        "### encode the text into indexes (y_train)\n",
        "for i in y_train:\n",
        "  data_train = y_train[i]\n",
        "  encoded_y_train = encoder(data_train)[:3].numpy()\n"
      ],
      "execution_count": 45,
      "outputs": []
    },
    {
      "cell_type": "code",
      "metadata": {
        "id": "UOv1fQcBX0rC"
      },
      "source": [
        "### encode the text into indexes (y_train)\n",
        "for i in y_test:\n",
        "  data_test = y_test[i]\n",
        "  encoded_y_test = encoder(data_test)[:3].numpy()"
      ],
      "execution_count": 46,
      "outputs": []
    },
    {
      "cell_type": "code",
      "metadata": {
        "colab": {
          "base_uri": "https://localhost:8080/"
        },
        "id": "zBbsyt8IYG6M",
        "outputId": "a7415913-dc36-48e0-e6f7-1fd3dbbdced7"
      },
      "source": [
        "for n in range(3):\n",
        "  print(\"Original: \", data_train[n])\n",
        "  print(\"Round-trip: \", \" \".join(vocab[encoded_y_train[n]]))\n",
        "  print()"
      ],
      "execution_count": 47,
      "outputs": [
        {
          "output_type": "stream",
          "text": [
            "Original:  ahhhh...just woken up!had a bad dream about u tho,so i dont like u right now :) i didnt know anything about comedy night but i guess im up for it.\n",
            "Round-trip:  [UNK] [UNK] [UNK] a bad [UNK] about u [UNK] i dont like u right now i didnt know anything about [UNK] night but i guess im up for it                                                                                                                                              \n",
            "\n",
            "Original:  you can never do nothing\n",
            "Round-trip:  you can never do nothing                                                                                                                                                                      \n",
            "\n",
            "Original:  now u sound like manky scouse boy steve,like! i is travelling on da bus home.wot has u inmind 4 recreation dis eve?\n",
            "Round-trip:  now u [UNK] like [UNK] [UNK] boy [UNK] i is [UNK] on da bus [UNK] has u [UNK] 4 [UNK] dis [UNK]                                                                                                                                                     \n",
            "\n"
          ],
          "name": "stdout"
        }
      ]
    },
    {
      "cell_type": "code",
      "metadata": {
        "id": "dJoopI7IY7qc"
      },
      "source": [
        "#### creat the model\n",
        "\n",
        "model = tf.keras.Sequential([\n",
        "    encoder,\n",
        "    tf.keras.layers.Embedding(\n",
        "        input_dim=len(encoder.get_vocabulary()),\n",
        "        output_dim=64,\n",
        "        # Use masking to handle the variable sequence lengths\n",
        "        mask_zero=True),\n",
        "    tf.keras.layers.Bidirectional(tf.keras.layers.LSTM(64)),\n",
        "    tf.keras.layers.Dense(64, activation='relu'),\n",
        "    tf.keras.layers.Dense(1)\n",
        "])"
      ],
      "execution_count": 48,
      "outputs": []
    },
    {
      "cell_type": "code",
      "metadata": {
        "colab": {
          "base_uri": "https://localhost:8080/"
        },
        "id": "VtIq-j3JZUWz",
        "outputId": "d9c7e0de-e537-4bc2-d5f3-cd46dc5283ad"
      },
      "source": [
        "# predict on a sample text without padding.\n",
        "\n",
        "sample_text = (\"how are you doing today?\")\n",
        "predictions = model.predict(np.array([sample_text]))\n",
        "print(predictions[0])"
      ],
      "execution_count": 71,
      "outputs": [
        {
          "output_type": "stream",
          "text": [
            "[0.00501844]\n"
          ],
          "name": "stdout"
        }
      ]
    },
    {
      "cell_type": "code",
      "metadata": {
        "colab": {
          "base_uri": "https://localhost:8080/"
        },
        "id": "Lm61BhNzZldL",
        "outputId": "d2751a92-0657-419b-fe0a-a7829a5d5816"
      },
      "source": [
        "# predict on a sample text with padding\n",
        "padding = \"the \" * 2000\n",
        "predictions = model.predict(np.array([sample_text, padding]))\n",
        "print(predictions[0])"
      ],
      "execution_count": 72,
      "outputs": [
        {
          "output_type": "stream",
          "text": [
            "[0.00501844]\n"
          ],
          "name": "stdout"
        }
      ]
    },
    {
      "cell_type": "code",
      "metadata": {
        "id": "R-DVIPWIZvhG"
      },
      "source": [
        "###compiling the model\n",
        "\n",
        "model.compile(loss=tf.keras.losses.BinaryCrossentropy(from_logits=True),\n",
        "              optimizer=tf.keras.optimizers.Adam(1e-4),\n",
        "              metrics=['accuracy'])"
      ],
      "execution_count": 60,
      "outputs": []
    }
  ]
}