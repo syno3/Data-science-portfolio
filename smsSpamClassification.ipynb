{
  "nbformat": 4,
  "nbformat_minor": 0,
  "metadata": {
    "colab": {
      "name": "smsSpamClassification.ipynb",
      "provenance": [],
      "authorship_tag": "ABX9TyNa127m85vKz5DuCRXUL9a4",
      "include_colab_link": true
    },
    "kernelspec": {
      "name": "python3",
      "display_name": "Python 3"
    },
    "language_info": {
      "name": "python"
    },
    "accelerator": "GPU"
  },
  "cells": [
    {
      "cell_type": "markdown",
      "metadata": {
        "id": "view-in-github",
        "colab_type": "text"
      },
      "source": [
        "<a href=\"https://colab.research.google.com/github/syno3/Data-science-portfolio/blob/dev/smsSpamClassification.ipynb\" target=\"_parent\"><img src=\"https://colab.research.google.com/assets/colab-badge.svg\" alt=\"Open In Colab\"/></a>"
      ]
    },
    {
      "cell_type": "code",
      "metadata": {
        "id": "DzfZFy2VE80K"
      },
      "source": [
        "### importing the required modules\n",
        "\n",
        "import tensorflow as tf\n",
        "import pandas as pd\n",
        "from tensorflow import keras\n",
        "\n",
        "import tensorflow_datasets as tfds\n",
        "import numpy as np\n",
        "import matplotlib.pyplot as plt\n",
        "\n",
        "from tensorflow.keras import utils\n",
        "import csv\n",
        "import pandas as pd"
      ],
      "execution_count": 83,
      "outputs": []
    },
    {
      "cell_type": "code",
      "metadata": {
        "id": "1Tbx_idxGI6k",
        "colab": {
          "base_uri": "https://localhost:8080/"
        },
        "outputId": "593c0b98-24d1-432a-d18c-63949f0846fc"
      },
      "source": [
        "# get data files\n",
        "#loading the data\n",
        "\n",
        "!wget https://cdn.freecodecamp.org/project-data/sms/train-data.tsv\n",
        "!wget https://cdn.freecodecamp.org/project-data/sms/valid-data.tsv\n",
        "\n",
        "train_file_path = \"train-data.tsv\"\n",
        "test_file_path = \"valid-data.tsv\""
      ],
      "execution_count": 84,
      "outputs": [
        {
          "output_type": "stream",
          "text": [
            "--2021-07-11 07:27:10--  https://cdn.freecodecamp.org/project-data/sms/train-data.tsv\n",
            "Resolving cdn.freecodecamp.org (cdn.freecodecamp.org)... 104.26.3.33, 172.67.70.149, 104.26.2.33, ...\n",
            "Connecting to cdn.freecodecamp.org (cdn.freecodecamp.org)|104.26.3.33|:443... connected.\n",
            "HTTP request sent, awaiting response... 200 OK\n",
            "Length: 358233 (350K) [text/tab-separated-values]\n",
            "Saving to: ‘train-data.tsv.1’\n",
            "\n",
            "\rtrain-data.tsv.1      0%[                    ]       0  --.-KB/s               \rtrain-data.tsv.1    100%[===================>] 349.84K  --.-KB/s    in 0.03s   \n",
            "\n",
            "2021-07-11 07:27:10 (12.3 MB/s) - ‘train-data.tsv.1’ saved [358233/358233]\n",
            "\n",
            "--2021-07-11 07:27:10--  https://cdn.freecodecamp.org/project-data/sms/valid-data.tsv\n",
            "Resolving cdn.freecodecamp.org (cdn.freecodecamp.org)... 104.26.3.33, 172.67.70.149, 104.26.2.33, ...\n",
            "Connecting to cdn.freecodecamp.org (cdn.freecodecamp.org)|104.26.3.33|:443... connected.\n",
            "HTTP request sent, awaiting response... 200 OK\n",
            "Length: 118774 (116K) [text/tab-separated-values]\n",
            "Saving to: ‘valid-data.tsv.1’\n",
            "\n",
            "valid-data.tsv.1    100%[===================>] 115.99K  --.-KB/s    in 0.02s   \n",
            "\n",
            "2021-07-11 07:27:10 (7.30 MB/s) - ‘valid-data.tsv.1’ saved [118774/118774]\n",
            "\n"
          ],
          "name": "stdout"
        }
      ]
    },
    {
      "cell_type": "code",
      "metadata": {
        "id": "0TWK7-tqJ_yD"
      },
      "source": [
        "## converting to dataFrame and Preprocessing\n",
        "\n",
        "train_df = pd.read_csv(train_file_path, sep='\\t', names=['Classification', 'Text'])\n",
        "test_df = pd.read_csv(test_file_path, sep='\\t', names=['Classification', 'Text'])"
      ],
      "execution_count": 85,
      "outputs": []
    },
    {
      "cell_type": "code",
      "metadata": {
        "id": "cWFp2uuwLj92"
      },
      "source": [
        "## Mapping the data\n",
        "\n",
        "x_train = train_df.drop('Classification', axis=1)\n",
        "y_train = train_df.drop('Text', axis=1).astype('category')\n",
        "\n",
        "x_test = test_df.drop('Classification', axis=1)\n",
        "y_test = test_df.drop('Text', axis=1).astype('category')"
      ],
      "execution_count": 86,
      "outputs": []
    },
    {
      "cell_type": "code",
      "metadata": {
        "id": "oR6hM9VZNx7F"
      },
      "source": [
        "### encoding the spam and ham into [0,1]\n",
        "\n",
        "y_train =  y_train['Classification'].cat.codes\n",
        "y_test = y_test['Classification'].cat.codes"
      ],
      "execution_count": 87,
      "outputs": []
    },
    {
      "cell_type": "code",
      "metadata": {
        "id": "40EYJXnROivK"
      },
      "source": [
        "## iterate over column (text) and encode raw text\n",
        "VOCAB_SIZE = 1000\n",
        "for i in x_train:\n",
        "  encoder = tf.keras.layers.experimental.preprocessing.TextVectorization(\n",
        "      max_tokens=VOCAB_SIZE)\n",
        "  encoder.adapt(np.array(x_train[i]))"
      ],
      "execution_count": 88,
      "outputs": []
    },
    {
      "cell_type": "code",
      "metadata": {
        "id": "SNrPVVVTVMu8"
      },
      "source": [
        "for j in x_test:\n",
        "  encoder = tf.keras.layers.experimental.preprocessing.TextVectorization(\n",
        "      max_tokens=VOCAB_SIZE)\n",
        "  encoder.adapt(np.array(x_test[j]))"
      ],
      "execution_count": 89,
      "outputs": []
    },
    {
      "cell_type": "code",
      "metadata": {
        "id": "Apf0yHvvUzdg"
      },
      "source": [
        "vocab = np.array(encoder.get_vocabulary())"
      ],
      "execution_count": 90,
      "outputs": []
    },
    {
      "cell_type": "code",
      "metadata": {
        "id": "XiKK0o6-V6tR"
      },
      "source": [
        "### encode the text into indexes (y_train)\n",
        "for i in x_train:\n",
        "  data_train = x_train[i]\n",
        "  encoded_x_train = encoder(data_train)[:3].numpy()\n"
      ],
      "execution_count": 91,
      "outputs": []
    },
    {
      "cell_type": "code",
      "metadata": {
        "id": "UOv1fQcBX0rC"
      },
      "source": [
        "### encode the text into indexes (y_train)\n",
        "for i in x_test:\n",
        "  data_test = x_test[i]\n",
        "  encoded_x_test = encoder(data_test)[:3].numpy()"
      ],
      "execution_count": 92,
      "outputs": []
    },
    {
      "cell_type": "code",
      "metadata": {
        "colab": {
          "base_uri": "https://localhost:8080/"
        },
        "id": "zBbsyt8IYG6M",
        "outputId": "1d5050bc-890f-415b-937c-d6b5cecf2bfd"
      },
      "source": [
        "for n in range(3):\n",
        "  print(\"Original: \", data_train[n])\n",
        "  print(\"Round-trip: \", \" \".join(vocab[encoded_x_train[n]]))\n",
        "  print()"
      ],
      "execution_count": 93,
      "outputs": [
        {
          "output_type": "stream",
          "text": [
            "Original:  ahhhh...just woken up!had a bad dream about u tho,so i dont like u right now :) i didnt know anything about comedy night but i guess im up for it.\n",
            "Round-trip:  [UNK] [UNK] [UNK] a bad [UNK] about u [UNK] i dont like u right now i didnt know anything about [UNK] night but i guess im up for it                                                                                                                                              \n",
            "\n",
            "Original:  you can never do nothing\n",
            "Round-trip:  you can never do nothing                                                                                                                                                                      \n",
            "\n",
            "Original:  now u sound like manky scouse boy steve,like! i is travelling on da bus home.wot has u inmind 4 recreation dis eve?\n",
            "Round-trip:  now u [UNK] like [UNK] [UNK] boy [UNK] i is [UNK] on da bus [UNK] has u [UNK] 4 [UNK] dis [UNK]                                                                                                                                                     \n",
            "\n"
          ],
          "name": "stdout"
        }
      ]
    },
    {
      "cell_type": "code",
      "metadata": {
        "id": "dJoopI7IY7qc"
      },
      "source": [
        "#### creat the model\n",
        "\n",
        "model = tf.keras.Sequential([\n",
        "    encoder,\n",
        "    tf.keras.layers.Embedding(\n",
        "        input_dim=len(encoder.get_vocabulary()),\n",
        "        output_dim=64,\n",
        "        # Use masking to handle the variable sequence lengths\n",
        "        mask_zero=True),\n",
        "    tf.keras.layers.Bidirectional(tf.keras.layers.LSTM(64)),\n",
        "    tf.keras.layers.Dense(64, activation='relu'),\n",
        "    tf.keras.layers.Dense(1)\n",
        "])"
      ],
      "execution_count": 94,
      "outputs": []
    },
    {
      "cell_type": "code",
      "metadata": {
        "colab": {
          "base_uri": "https://localhost:8080/"
        },
        "id": "VtIq-j3JZUWz",
        "outputId": "1e093ccc-1958-4b59-dffc-52e80847be99"
      },
      "source": [
        "# predict on a sample text without padding.\n",
        "sample_text = (\"how are you doing today?\")\n",
        "predictions = model.predict(np.array([sample_text]))\n",
        "print(predictions[0])"
      ],
      "execution_count": 95,
      "outputs": [
        {
          "output_type": "stream",
          "text": [
            "[0.00554779]\n"
          ],
          "name": "stdout"
        }
      ]
    },
    {
      "cell_type": "code",
      "metadata": {
        "colab": {
          "base_uri": "https://localhost:8080/"
        },
        "id": "Lm61BhNzZldL",
        "outputId": "2586ec11-4271-492b-c720-df3b1e368531"
      },
      "source": [
        "# predict on a sample text with padding\n",
        "padding = \"the \" * 2000\n",
        "predictions = model.predict(np.array([sample_text, padding]))\n",
        "print(predictions[0])"
      ],
      "execution_count": 96,
      "outputs": [
        {
          "output_type": "stream",
          "text": [
            "[0.00554779]\n"
          ],
          "name": "stdout"
        }
      ]
    },
    {
      "cell_type": "code",
      "metadata": {
        "id": "R-DVIPWIZvhG"
      },
      "source": [
        "###compiling the model\n",
        "\n",
        "model.compile(loss=tf.keras.losses.BinaryCrossentropy(from_logits=True),\n",
        "              optimizer=tf.keras.optimizers.Adam(1e-4),\n",
        "              metrics=['accuracy'])"
      ],
      "execution_count": 97,
      "outputs": []
    },
    {
      "cell_type": "code",
      "metadata": {
        "colab": {
          "base_uri": "https://localhost:8080/"
        },
        "id": "iV4FMjBniXKa",
        "outputId": "430b01a8-2e98-4a09-994c-68251135d317"
      },
      "source": [
        "model.fit(x=x_train,y=y_train,epochs=10,validation_data=(x_test, y_test), verbose=1)"
      ],
      "execution_count": 98,
      "outputs": [
        {
          "output_type": "stream",
          "text": [
            "Epoch 1/10\n",
            "131/131 [==============================] - 11s 38ms/step - loss: 0.6010 - accuracy: 0.8660 - val_loss: 0.4835 - val_accuracy: 0.8657\n",
            "Epoch 2/10\n",
            "131/131 [==============================] - 3s 20ms/step - loss: 0.3830 - accuracy: 0.8660 - val_loss: 0.2460 - val_accuracy: 0.8657\n",
            "Epoch 3/10\n",
            "131/131 [==============================] - 3s 20ms/step - loss: 0.1677 - accuracy: 0.9129 - val_loss: 0.1149 - val_accuracy: 0.9670\n",
            "Epoch 4/10\n",
            "131/131 [==============================] - 3s 20ms/step - loss: 0.0971 - accuracy: 0.9718 - val_loss: 0.0840 - val_accuracy: 0.9741\n",
            "Epoch 5/10\n",
            "131/131 [==============================] - 3s 20ms/step - loss: 0.0700 - accuracy: 0.9777 - val_loss: 0.0675 - val_accuracy: 0.9763\n",
            "Epoch 6/10\n",
            "131/131 [==============================] - 3s 20ms/step - loss: 0.0559 - accuracy: 0.9825 - val_loss: 0.0583 - val_accuracy: 0.9799\n",
            "Epoch 7/10\n",
            "131/131 [==============================] - 3s 20ms/step - loss: 0.0461 - accuracy: 0.9866 - val_loss: 0.0531 - val_accuracy: 0.9842\n",
            "Epoch 8/10\n",
            "131/131 [==============================] - 3s 20ms/step - loss: 0.0382 - accuracy: 0.9878 - val_loss: 0.0560 - val_accuracy: 0.9835\n",
            "Epoch 9/10\n",
            "131/131 [==============================] - 2s 19ms/step - loss: 0.0325 - accuracy: 0.9907 - val_loss: 0.0504 - val_accuracy: 0.9864\n",
            "Epoch 10/10\n",
            "131/131 [==============================] - 3s 20ms/step - loss: 0.0270 - accuracy: 0.9919 - val_loss: 0.0486 - val_accuracy: 0.9878\n"
          ],
          "name": "stdout"
        },
        {
          "output_type": "execute_result",
          "data": {
            "text/plain": [
              "<tensorflow.python.keras.callbacks.History at 0x7fe050479290>"
            ]
          },
          "metadata": {
            "tags": []
          },
          "execution_count": 98
        }
      ]
    },
    {
      "cell_type": "code",
      "metadata": {
        "colab": {
          "base_uri": "https://localhost:8080/"
        },
        "id": "aXXjsGbylJ4T",
        "outputId": "7a11cfdc-d993-42cf-eb82-554750f78b7a"
      },
      "source": [
        "pred_text = \"how are you doing today?\"\n",
        "predictions = model.predict(np.array([sample_text]))\n",
        "print(\"prediction was\",predictions[0][0])"
      ],
      "execution_count": 99,
      "outputs": [
        {
          "output_type": "stream",
          "text": [
            "prediction was -5.6187515\n"
          ],
          "name": "stdout"
        }
      ]
    },
    {
      "cell_type": "code",
      "metadata": {
        "colab": {
          "base_uri": "https://localhost:8080/"
        },
        "id": "3uejHzsPX9Ng",
        "outputId": "6c71b84a-d664-4653-d48e-664f20d5098e"
      },
      "source": [
        "def predict_message(pred_text):\n",
        "  result = model.predict([pred_text])\n",
        "  if result >= 0.0:\n",
        "    prediction  = [result[0][0],'spam']\n",
        "  else:\n",
        "    prediction  = [result[0][0],'ham']\n",
        "\n",
        "  return (prediction)\n",
        "\n",
        "pred_text = \"how are you doing today\"\n",
        "\n",
        "prediction = predict_message(pred_text)\n",
        "print(prediction)"
      ],
      "execution_count": 114,
      "outputs": [
        {
          "output_type": "stream",
          "text": [
            "[-5.6187515, 'ham']\n"
          ],
          "name": "stdout"
        }
      ]
    },
    {
      "cell_type": "code",
      "metadata": {
        "colab": {
          "base_uri": "https://localhost:8080/"
        },
        "id": "18_oU37WYNvN",
        "outputId": "553fbdb4-aeb4-48cc-c4ea-caa430eb9a84"
      },
      "source": [
        "def test_predictions():\n",
        "  test_messages = [\"how are you doing today\",\n",
        "                   \"sale today! to stop texts call 98912460324\",\n",
        "                   \"i dont want to go. can we try it a different day? available sat\",\n",
        "                   \"our new mobile video service is live. just install on your phone to start watching.\",\n",
        "                   \"you have won £1000 cash! call to claim your prize.\",\n",
        "                   \"i'll bring it tomorrow. don't forget the milk.\",\n",
        "                   \"wow, is your arm alright. that happened to me one time too\"\n",
        "                  ]\n",
        "\n",
        "  test_answers = [\"ham\", \"spam\", \"ham\", \"spam\", \"spam\", \"ham\", \"ham\"]\n",
        "  passed = True\n",
        "\n",
        "  for msg, ans in zip(test_messages, test_answers):\n",
        "    prediction = predict_message(msg)\n",
        "    if prediction[1] != ans:\n",
        "      passed = False\n",
        "\n",
        "  if passed:\n",
        "    print(\"You passed the challenge. Great job!\")\n",
        "  else:\n",
        "    print(\"You haven't passed yet. Keep trying.\")\n",
        "\n",
        "test_predictions()\n"
      ],
      "execution_count": 117,
      "outputs": [
        {
          "output_type": "stream",
          "text": [
            "You passed the challenge. Great job!\n"
          ],
          "name": "stdout"
        }
      ]
    }
  ]
}